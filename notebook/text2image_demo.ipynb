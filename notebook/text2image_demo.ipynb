{
 "cells": [
  {
   "cell_type": "code",
   "execution_count": null,
   "metadata": {},
   "outputs": [],
   "source": [
    "!pip install git+https://github.com/kashif/diffusers.git@wuerstchen-v3 xformers gradio"
   ]
  },
  {
   "cell_type": "code",
   "execution_count": null,
   "metadata": {},
   "outputs": [],
   "source": [
    "from stable_cascade import web_demo\n",
    "import gradio as gr\n",
    "import torch\n",
    "\n",
    "torch.backends.cuda.enable_mem_efficient_sdp(False)\n",
    "torch.backends.cuda.enable_flash_sdp(False)"
   ]
  },
  {
   "cell_type": "code",
   "execution_count": null,
   "metadata": {},
   "outputs": [],
   "source": [
    "gradio_app = gr.Blocks()\n",
    "with gradio_app:\n",
    "    gr.HTML(\n",
    "        \"\"\"\n",
    "    <h1 style='text-align: center'>\n",
    "    Stable Cascade 🚀\n",
    "    </h1>\n",
    "    \"\"\")\n",
    "    gr.HTML(\n",
    "        \"\"\"\n",
    "        <h3 style='text-align: center'>\n",
    "        Follow me for more!\n",
    "        <a href='https://twitter.com/kadirnar_ai' target='_blank'>Twitter</a> | <a href='https://github.com/kadirnar' target='_blank'>Github</a> | <a href='https://www.linkedin.com/in/kadir-nar/' target='_blank'>Linkedin</a>  | <a href='https://www.huggingface.co/kadirnar/' target='_blank'>HuggingFace</a>\n",
    "        </h3>\n",
    "        \"\"\")\n",
    "    with gr.Row():\n",
    "        with gr.Column():\n",
    "            web_demo()\n",
    "\n",
    "gradio_app.queue()\n",
    "gradio_app.launch(debug=True)"
   ]
  }
 ],
 "metadata": {
  "language_info": {
   "name": "python"
  }
 },
 "nbformat": 4,
 "nbformat_minor": 2
}
